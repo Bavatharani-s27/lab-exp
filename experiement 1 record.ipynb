{
 "cells": [
  {
   "cell_type": "markdown",
   "id": "9536c33e",
   "metadata": {},
   "source": [
    "1.Write a program to calculate the area of a triangle using Heron’s formula.\n",
    "(Hint: Heron’s formula is given as: area = sqrt(S*(S–a)*(S–b)*(S–c)))\n"
   ]
  },
  {
   "cell_type": "code",
   "execution_count": 2,
   "id": "d70d4c65",
   "metadata": {},
   "outputs": [
    {
     "name": "stdout",
     "output_type": "stream",
     "text": [
      "The area of the triangle is 3.90\n"
     ]
    }
   ],
   "source": [
    "\n",
    "def calculate_area(a, b, c):\n",
    "    s = (a + b + c) / 2\n",
    "    area = (s * (s - a) * (s - b) * (s - c)) ** 0.5\n",
    "    return area\n",
    "a = float(input(\"Enter side a: \"))\n",
    "b = float(input(\"Enter side b: \"))\n",
    "c = float(input(\"Enter side c: \"))\n",
    "if (a + b > c) and (a + c > b) and (b + c > a):\n",
    "    area = calculate_area(a, b, c)\n",
    "    print(f\"The area of the triangle is {area:.2f}\")\n",
    "else:\n",
    "    print(\"The given sides do not form a valid triangle.\")"
   ]
  },
  {
   "cell_type": "markdown",
   "id": "81609e9f",
   "metadata": {},
   "source": [
    "2.Write a program to calculate the distance between two points."
   ]
  },
  {
   "cell_type": "code",
   "execution_count": 4,
   "id": "17e488b8",
   "metadata": {},
   "outputs": [
    {
     "name": "stdout",
     "output_type": "stream",
     "text": [
      "The distance between the two points is 2.83\n"
     ]
    }
   ],
   "source": [
    "x1 = float(input(\"Enter x-coordinate of first point: \"))\n",
    "y1 = float(input(\"Enter y-coordinate of first point: \"))\n",
    "x2 = float(input(\"Enter x-coordinate of second point: \"))\n",
    "y2 = float(input(\"Enter y-coordinate of second point: \"))\n",
    "distance = ((x2 - x1)*2 + (y2 - y1)*2) ** 0.5\n",
    "print(f\"The distance between the two points is {distance:.2f}\")"
   ]
  },
  {
   "cell_type": "markdown",
   "id": "a6a7a34d",
   "metadata": {},
   "source": [
    "3.Write a program to calculate the area of a circle, rectangle, triangle, and square."
   ]
  },
  {
   "cell_type": "code",
   "execution_count": 5,
   "id": "493afd3b",
   "metadata": {},
   "outputs": [
    {
     "name": "stdout",
     "output_type": "stream",
     "text": [
      "1.Circle  2.Rectangle  3.Triangle  4.Square\n",
      "Area = 78.54\n"
     ]
    }
   ],
   "source": [
    "print(\"1.Circle  2.Rectangle  3.Triangle  4.Square\")\n",
    "ch = int(input(\"Enter choice (1-4): \"))\n",
    "\n",
    "if ch == 1:\n",
    "    r = float(input(\"Radius: \"))\n",
    "    print(f\"Area = {3.14159 * r * r:.2f}\")\n",
    "elif ch == 2:\n",
    "    l = float(input(\"Length: \"))\n",
    "    w = float(input(\"Width: \"))\n",
    "    print(f\"Area = {l * w:.2f}\")\n",
    "elif ch == 3:\n",
    "    b = float(input(\"Base: \"))\n",
    "    h = float(input(\"Height: \"))\n",
    "    print(f\"Area = {0.5 * b * h:.2f}\")\n",
    "elif ch == 4:\n",
    "    s = float(input(\"Side: \"))\n",
    "    print(f\"Area = {s * s:.2f}\")\n",
    "else:\n",
    "    print(\"Invalid choice\")"
   ]
  },
  {
   "cell_type": "markdown",
   "id": "8bad29e5",
   "metadata": {},
   "source": [
    "4.Write a program to print the digit at one’s place of a number."
   ]
  },
  {
   "cell_type": "code",
   "execution_count": 6,
   "id": "8222e783",
   "metadata": {},
   "outputs": [
    {
     "name": "stdout",
     "output_type": "stream",
     "text": [
      "The digit at one's place is 6\n"
     ]
    }
   ],
   "source": [
    "num = int(input(\"Enter a number: \"))\n",
    "ones_place = num % 10\n",
    "print(f\"The digit at one's place is {ones_place}\")"
   ]
  },
  {
   "cell_type": "markdown",
   "id": "75551a8b",
   "metadata": {},
   "source": [
    "5.Write a program to calculate the total amount of money in the piggy bank, given the coins of ₹10, ₹5, ₹2, and ₹1.\n"
   ]
  },
  {
   "cell_type": "code",
   "execution_count": 7,
   "id": "fe393bf4",
   "metadata": {},
   "outputs": [
    {
     "name": "stdout",
     "output_type": "stream",
     "text": [
      "Total amount in piggy bank = $89\n"
     ]
    }
   ],
   "source": [
    "ten = int(input(\"Enter number of $10 coins: \"))\n",
    "five = int(input(\"Enter number of $5 coins: \"))\n",
    "two = int(input(\"Enter number of $2 coins: \"))\n",
    "one = int(input(\"Enter number of $1 coins: \"))\n",
    "total = (ten * 10) + (five * 5) + (two * 2) + (one * 1)\n",
    "print(f\"Total amount in piggy bank = ${total}\")"
   ]
  },
  {
   "cell_type": "markdown",
   "id": "c7c6192c",
   "metadata": {},
   "source": [
    "6.Write a program to calculate the bill amount for an item given its quantity sold, value, discount, and tax."
   ]
  },
  {
   "cell_type": "code",
   "execution_count": 8,
   "id": "d8e54f48",
   "metadata": {},
   "outputs": [
    {
     "name": "stdout",
     "output_type": "stream",
     "text": [
      "Final bill amount = $53.95\n"
     ]
    }
   ],
   "source": [
    "quantity = int(input(\"Enter quantity sold: \"))\n",
    "price_per_item = float(input(\"Enter price per item: \"))\n",
    "discount_percent = float(input(\"Enter discount percentage: \"))\n",
    "tax_percent = float(input(\"Enter tax percentage: \"))\n",
    "gross_amount = quantity * price_per_item\n",
    "discount = (discount_percent / 100) * gross_amount\n",
    "amount_after_discount = gross_amount - discount\n",
    "tax = (tax_percent / 100) * amount_after_discount\n",
    "final_amount = amount_after_discount + tax\n",
    "print(f\"Final bill amount = ${final_amount:.2f}\")"
   ]
  },
  {
   "cell_type": "markdown",
   "id": "44f7726d",
   "metadata": {},
   "source": [
    "7.Write a python program to calculate a household's electricity bill.\n",
    "  The user should enter the number of units consumed. The charges are as follows:\n",
    "    For the first 100 units: ₹1.50 per unit\n",
    "    For the next 100 units (101–200): ₹2.00 per unit\n",
    "    For units above 200: ₹3.00 per unit\n",
    "  A fixed meter charge of ₹50 is added to the bill.\n",
    "  Display the total amount to be paid with a proper bill format.\n"
   ]
  },
  {
   "cell_type": "code",
   "execution_count": 9,
   "id": "8df9645e",
   "metadata": {},
   "outputs": [
    {
     "name": "stdout",
     "output_type": "stream",
     "text": [
      "\n",
      "------ Electricity Bill ------\n",
      "Units Consumed : 58\n",
      "Energy Charges : ₹87.00\n",
      "Meter Charge   : ₹50.00\n",
      "------------------------------\n",
      "Total Amount   : ₹137.00\n",
      "------------------------------\n"
     ]
    }
   ],
   "source": [
    "units = int(input(\"Enter the number of units consumed: \"))\n",
    "bill = 0\n",
    "if units <= 100:\n",
    "    bill = units * 1.5\n",
    "elif units <= 200:\n",
    "    bill = (100 * 1.5) + ((units - 100) * 2.0)\n",
    "else:\n",
    "    bill = (100 * 1.5) + (100 * 2.0) + ((units - 200) * 3.0)\n",
    "meter_charge = 50\n",
    "total_bill = bill + meter_charge\n",
    "print(\"\\n------ Electricity Bill ------\")\n",
    "print(f\"Units Consumed : {units}\")\n",
    "print(f\"Energy Charges : ₹{bill:.2f}\")\n",
    "print(f\"Meter Charge   : ₹{meter_charge:.2f}\")\n",
    "print(\"------------------------------\")\n",
    "print(f\"Total Amount   : ₹{total_bill:.2f}\")\n",
    "print(\"------------------------------\")"
   ]
  },
  {
   "cell_type": "markdown",
   "id": "2ccf4445",
   "metadata": {},
   "source": [
    "8.Develop a Python program that calculates an employee’s net salary. Accept input for:\n",
    "    Employee name and ID\n",
    "    Number of hours worked\n",
    "    Hourly wage\n",
    "Calculate the gross salary and deduct 10% as tax. Display a proper salary slip with all details.\n"
   ]
  },
  {
   "cell_type": "code",
   "execution_count": 10,
   "id": "0cb23375",
   "metadata": {},
   "outputs": [
    {
     "name": "stdout",
     "output_type": "stream",
     "text": [
      "\n",
      "--------- Salary Slip ---------\n",
      "Employee Name : ashwin\n",
      "Employee ID   : 101\n",
      "Hours Worked  : 20.0\n",
      "Hourly Wage   : $300.00\n",
      "Gross Salary  : $6000.00\n",
      "Tax Deducted  : $600.00\n",
      "-------------------------------\n",
      "Net Salary    : $5400.00\n",
      "-------------------------------\n"
     ]
    }
   ],
   "source": [
    "emp_name = input(\"Enter Employee Name: \")\n",
    "emp_id = input(\"Enter Employee ID: \")\n",
    "hours_worked = float(input(\"Enter number of hours worked: \"))\n",
    "hourly_wage = float(input(\"Enter hourly wage: \"))\n",
    "gross_salary = hours_worked * hourly_wage\n",
    "tax = 0.10 * gross_salary\n",
    "net_salary = gross_salary - tax\n",
    "print(\"\\n--------- Salary Slip ---------\")\n",
    "print(f\"Employee Name : {emp_name}\")\n",
    "print(f\"Employee ID   : {emp_id}\")\n",
    "print(f\"Hours Worked  : {hours_worked}\")\n",
    "print(f\"Hourly Wage   : ${hourly_wage:.2f}\")\n",
    "print(f\"Gross Salary  : ${gross_salary:.2f}\")\n",
    "print(f\"Tax Deducted  : ${tax:.2f}\")\n",
    "print(\"-------------------------------\")\n",
    "print(f\"Net Salary    : ${net_salary:.2f}\")\n",
    "print(\"-------------------------------\")"
   ]
  },
  {
   "cell_type": "markdown",
   "id": "07983da0",
   "metadata": {},
   "source": [
    "9.Write a Python program to calculate the total cost of movie tickets. Accept:\n",
    "    Number of tickets\n",
    "    Ticket category (Silver: ₹120, Gold: ₹180, Platinum: ₹250)\n",
    "Add 18% GST to the ticket cost. Display a formatted bill.\n"
   ]
  },
  {
   "cell_type": "code",
   "execution_count": 11,
   "id": "65366915",
   "metadata": {},
   "outputs": [
    {
     "name": "stdout",
     "output_type": "stream",
     "text": [
      "Ticket Categories:\n",
      "1. Silver ($120)\n",
      "2. Gold ($180)\n",
      "3. Platinum ($250)\n",
      "\n",
      "--------- Movie Ticket Bill ---------\n",
      "Ticket Category : Gold\n",
      "Number of Tickets: 8\n",
      "Price per Ticket : $180\n",
      "Total Ticket Cost: $1440.00\n",
      "GST (18%)        : $259.20\n",
      "-------------------------------------\n",
      "Total Amount Payable: ₹1699.20\n",
      "-------------------------------------\n"
     ]
    }
   ],
   "source": [
    "num_tickets = int(input(\"Enter number of tickets: \"))\n",
    "print(\"Ticket Categories:\\n1. Silver ($120)\\n2. Gold ($180)\\n3. Platinum ($250)\")\n",
    "category = int(input(\"Enter ticket category (1-3): \"))\n",
    "if category == 1:\n",
    "    price_per_ticket = 120\n",
    "    category_name = \"Silver\"\n",
    "elif category == 2:\n",
    "    price_per_ticket = 180\n",
    "    category_name = \"Gold\"\n",
    "elif category == 3:\n",
    "    price_per_ticket = 250\n",
    "    category_name = \"Platinum\"\n",
    "else:\n",
    "    print(\"Invalid category!\")\n",
    "    exit()\n",
    "total_cost = num_tickets * price_per_ticket\n",
    "gst = 0.18 * total_cost\n",
    "final_amount = total_cost + gst\n",
    "print(\"\\n--------- Movie Ticket Bill ---------\")\n",
    "print(f\"Ticket Category : {category_name}\")\n",
    "print(f\"Number of Tickets: {num_tickets}\")\n",
    "print(f\"Price per Ticket : ${price_per_ticket}\")\n",
    "print(f\"Total Ticket Cost: ${total_cost:.2f}\")\n",
    "print(f\"GST (18%)        : ${gst:.2f}\")\n",
    "print(\"-------------------------------------\")\n",
    "print(f\"Total Amount Payable: ₹{final_amount:.2f}\")\n",
    "print(\"-------------------------------------\")"
   ]
  },
  {
   "cell_type": "markdown",
   "id": "b3f90553",
   "metadata": {},
   "source": [
    "10.Develop a Python program that estimates travel fare based on distance and transport mode. \n",
    "    Input:\n",
    "       Distance (in km)\n",
    "       Mode (Bus: ₹5/km, Train: ₹2/km, Cab: ₹10/km)\n",
    "Calculate and display the total fare and estimated travel time (assuming constant speeds for each mode).\n"
   ]
  },
  {
   "cell_type": "code",
   "execution_count": 12,
   "id": "79873205",
   "metadata": {},
   "outputs": [
    {
     "name": "stdout",
     "output_type": "stream",
     "text": [
      "Modes:\n",
      "1. Bus (5/km, 40 km/h)\n",
      "2. Train (2/km, 80 km/h)\n",
      "3. Cab (10/km, 60 km/h)\n",
      "\n",
      "------ Travel Fare Details ------\n",
      "Mode of Transport : Cab\n",
      "Distance          : 85.0 km\n",
      "Fare Rate         : 10/km\n",
      "Total Fare        : 850.00\n",
      "Estimated Time    : 1.42 hours\n",
      "---------------------------------\n"
     ]
    }
   ],
   "source": [
    "distance = float(input(\"Enter distance (in km): \"))\n",
    "print(\"Modes:\\n1. Bus (5/km, 40 km/h)\\n2. Train (2/km, 80 km/h)\\n3. Cab (10/km, 60 km/h)\")\n",
    "mode = int(input(\"Enter mode of transport (1-3): \"))\n",
    "if mode == 1:\n",
    "    rate_per_km = 5\n",
    "    speed = 40\n",
    "    mode_name = \"Bus\"\n",
    "elif mode == 2:\n",
    "    rate_per_km = 2\n",
    "    speed = 80\n",
    "    mode_name = \"Train\"\n",
    "elif mode == 3:\n",
    "    rate_per_km = 10\n",
    "    speed = 60\n",
    "    mode_name = \"Cab\"\n",
    "else:\n",
    "    print(\"Invalid mode selected!\")\n",
    "    exit()\n",
    "fare = distance * rate_per_km\n",
    "time = distance / speed\n",
    "print(\"\\n------ Travel Fare Details ------\")\n",
    "print(f\"Mode of Transport : {mode_name}\")\n",
    "print(f\"Distance          : {distance} km\")\n",
    "print(f\"Fare Rate         : {rate_per_km}/km\")\n",
    "print(f\"Total Fare        : {fare:.2f}\")\n",
    "print(f\"Estimated Time    : {time:.2f} hours\")\n",
    "print(\"---------------------------------\")"
   ]
  }
 ],
 "metadata": {
  "kernelspec": {
   "display_name": "base",
   "language": "python",
   "name": "python3"
  },
  "language_info": {
   "codemirror_mode": {
    "name": "ipython",
    "version": 3
   },
   "file_extension": ".py",
   "mimetype": "text/x-python",
   "name": "python",
   "nbconvert_exporter": "python",
   "pygments_lexer": "ipython3",
   "version": "3.12.4"
  }
 },
 "nbformat": 4,
 "nbformat_minor": 5
}
