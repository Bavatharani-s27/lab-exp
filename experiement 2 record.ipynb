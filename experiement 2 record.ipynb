{
 "cells": [
  {
   "cell_type": "markdown",
   "id": "bbd08d8d",
   "metadata": {},
   "source": [
    "### 1.Develop a python program for finding the absolute value of a given number. This is always measured as positive number. This number is the distance of given number from the 0(Zero). The input value may be integer, float or complex number in Python. The absolute value of given number may be integer or float"
   ]
  },
  {
   "cell_type": "code",
   "execution_count": null,
   "id": "8e8dcd2e",
   "metadata": {},
   "outputs": [
    {
     "name": "stdout",
     "output_type": "stream",
     "text": [
      "Total Selling Price (including GST): $33000.00\n"
     ]
    }
   ],
   "source": []
  },
  {
   "cell_type": "markdown",
   "id": "887480bd",
   "metadata": {},
   "source": [
    "### 2.Calculate the Total selling price after levying the GST (Goods and Service Tax) as CGST and SGST on sale. CGST (Central Govt. GST), SGST (State Govt. GST) .\n",
    "###        Sale amount \t\tCGST Rate \t\tSGST Rate\n",
    "\n",
    "####         0-50000\t\t5%\t\t\t5%\n",
    "####         Above 50000\t\t18%\t\t\t18%\n"
   ]
  },
  {
   "cell_type": "code",
   "execution_count": 3,
   "id": "a794bced",
   "metadata": {},
   "outputs": [
    {
     "name": "stdout",
     "output_type": "stream",
     "text": [
      "Total Selling Price (including GST): $33000.00\n"
     ]
    }
   ],
   "source": [
    "def calculate_total_selling_price(sale_amount):\n",
    "    if sale_amount <= 50000:\n",
    "        cgst_rate = 5\n",
    "        sgst_rate = 5\n",
    "    else:\n",
    "        cgst_rate = 18\n",
    "        sgst_rate = 18\n",
    "    total_gst_rate = cgst_rate + sgst_rate\n",
    "    gst_amount = (sale_amount * total_gst_rate) / 100\n",
    "    total_selling_price = sale_amount + gst_amount\n",
    "    return total_selling_price\n",
    "if __name__ == \"__main__\":\n",
    "    sale_amount = float(input(\"Enter the Sale Amount : \"))\n",
    "    total_price = calculate_total_selling_price(sale_amount)\n",
    "    print(f\"Total Selling Price (including GST): ${total_price:.2f}\")"
   ]
  },
  {
   "cell_type": "markdown",
   "id": "1caf6601",
   "metadata": {},
   "source": [
    "### 3.Write a Python program to construct the following pattern, using a nested for loop.\n",
    "##### *\n",
    "##### * *\n",
    "##### * * *\n",
    "##### * * * *\n",
    "##### * * * * *\n",
    "##### * * * *\n",
    "##### * * *\n",
    "##### * *\n",
    "##### *\n"
   ]
  },
  {
   "cell_type": "code",
   "execution_count": null,
   "id": "a724d0e8",
   "metadata": {},
   "outputs": [
    {
     "name": "stdout",
     "output_type": "stream",
     "text": [
      "* \n",
      "* * \n",
      "* * * \n",
      "* * * * \n",
      "* * * * * \n",
      "* * * * \n",
      "* * * \n",
      "* * \n",
      "* \n"
     ]
    }
   ],
   "source": [
    "n = 5\n",
    "for i in range(1, n + 1):\n",
    "    for j in range(i):\n",
    "        print('*', end=' ')\n",
    "    print()\n",
    "for i in range(n - 1, 0, -1):\n",
    "    for j in range(i):\n",
    "        print('*', end=' ')\n",
    "    print()"
   ]
  },
  {
   "cell_type": "markdown",
   "id": "1324dbf8",
   "metadata": {},
   "source": [
    "### 4.Write a Python program to guess a number between 1 and 9.\n",
    "#### Note : User is prompted to enter a guess. If the user guesses wrong then the prompt appears again until the guess is correct, on successful guess, user will get a \"Well guessed!\" message, and the program will exit.\n"
   ]
  },
  {
   "cell_type": "code",
   "execution_count": 9,
   "id": "652976bc",
   "metadata": {},
   "outputs": [
    {
     "name": "stdout",
     "output_type": "stream",
     "text": [
      "Wrong guess, try again!\n",
      "Wrong guess, try again!\n"
     ]
    },
    {
     "ename": "ValueError",
     "evalue": "invalid literal for int() with base 10: ''",
     "output_type": "error",
     "traceback": [
      "\u001b[1;31m---------------------------------------------------------------------------\u001b[0m",
      "\u001b[1;31mValueError\u001b[0m                                Traceback (most recent call last)",
      "Cell \u001b[1;32mIn[9], line 6\u001b[0m\n\u001b[0;32m      2\u001b[0m secret_number \u001b[38;5;241m=\u001b[39m random\u001b[38;5;241m.\u001b[39mrandint(\u001b[38;5;241m1\u001b[39m, \u001b[38;5;241m9\u001b[39m)\n\u001b[0;32m      4\u001b[0m \u001b[38;5;28;01mwhile\u001b[39;00m \u001b[38;5;28;01mTrue\u001b[39;00m:\n\u001b[1;32m----> 6\u001b[0m     guess \u001b[38;5;241m=\u001b[39m \u001b[38;5;28mint\u001b[39m(\u001b[38;5;28minput\u001b[39m(\u001b[38;5;124m\"\u001b[39m\u001b[38;5;124mGuess a number between 1 and 9: \u001b[39m\u001b[38;5;124m\"\u001b[39m))\n\u001b[0;32m      8\u001b[0m     \u001b[38;5;28;01mif\u001b[39;00m guess \u001b[38;5;241m==\u001b[39m secret_number:\n\u001b[0;32m      9\u001b[0m         \u001b[38;5;28mprint\u001b[39m(\u001b[38;5;124m\"\u001b[39m\u001b[38;5;124mWell guessed!\u001b[39m\u001b[38;5;124m\"\u001b[39m)\n",
      "\u001b[1;31mValueError\u001b[0m: invalid literal for int() with base 10: ''"
     ]
    }
   ],
   "source": [
    "import random\n",
    "secret_number = random.randint(1, 9)\n",
    "\n",
    "while True:\n",
    "    \n",
    "    guess = int(input(\"Guess a number between 1 and 9: \"))\n",
    "    \n",
    "    if guess == secret_number:\n",
    "        print(\"Well guessed!\")\n",
    "        break\n",
    "    else:\n",
    "        print(\"Wrong guess, try again!\")"
   ]
  },
  {
   "cell_type": "markdown",
   "id": "28098224",
   "metadata": {},
   "source": [
    "### 5.Write a Python program to calculate the total monthly cost for both subscriptions, the total annual cost if you continue paying monthly, and compare this with the annual rates you would pay if you switch to annual payments. Finally, show how much you could save by choosing the annual payment option.\n",
    "### Test Case:\n",
    "### Input:\n",
    "#### Service 1 = $10/month\n",
    "#### Service 2 = $12/month\n",
    "#### Annual Discount for Service 1 = $100\n",
    "#### Annual Discount for Service 2 = $120\n",
    "### Expected Output:\n",
    "#### Monthly Total: $22.00\n",
    "#### Total Annual Cost without Discount: $264.00\n",
    "#### Total Annual Discounted Cost: $220.00\n",
    "#### Total Savings: $44.00\n"
   ]
  },
  {
   "cell_type": "code",
   "execution_count": null,
   "id": "8d481ee5",
   "metadata": {},
   "outputs": [
    {
     "name": "stdout",
     "output_type": "stream",
     "text": [
      "1\n",
      "2\n",
      "Fizz\n",
      "4\n",
      "Buzz\n",
      "Fizz\n",
      "7\n",
      "8\n",
      "Fizz\n",
      "Buzz\n",
      "11\n",
      "Fizz\n",
      "13\n",
      "14\n",
      "FizzBuzz\n",
      "16\n",
      "17\n",
      "Fizz\n",
      "19\n",
      "Buzz\n",
      "Fizz\n",
      "22\n",
      "23\n",
      "Fizz\n",
      "Buzz\n",
      "26\n",
      "Fizz\n",
      "28\n",
      "29\n",
      "FizzBuzz\n",
      "31\n",
      "32\n",
      "Fizz\n",
      "34\n",
      "Buzz\n",
      "Fizz\n",
      "37\n",
      "38\n",
      "Fizz\n",
      "Buzz\n",
      "41\n",
      "Fizz\n",
      "43\n",
      "44\n",
      "FizzBuzz\n",
      "46\n",
      "47\n",
      "Fizz\n",
      "49\n",
      "Buzz\n"
     ]
    }
   ],
   "source": [
    "s1, s2 = 10, 12\n",
    "a1, a2 = 100, 120\n",
    "\n",
    "mt = s1 + s2\n",
    "at = mt * 12\n",
    "ad = a1 + a2\n",
    "sv = at - ad\n",
    "\n",
    "print(f\"Monthly Total: ${mt:.2f}\")\n",
    "print(f\"Total Annual Cost without Discount: ${at:.2f}\")\n",
    "print(f\"Total Annual Discounted Cost: ${ad:.2f}\")\n",
    "print(f\"Total Savings: ${sv:.2f}\")"
   ]
  },
  {
   "cell_type": "markdown",
   "id": "8f310711",
   "metadata": {},
   "source": [
    "### 6.Write a Python program that iterates through integers from 1 to 50. For each multiple of three, print \"Fizz\" instead of the number; for each multiple of five, print \"Buzz\". For numbers that are multiples of both three and five, print \"FizzBuzz\".\n"
   ]
  },
  {
   "cell_type": "code",
   "execution_count": null,
   "id": "460f3cd9",
   "metadata": {},
   "outputs": [
    {
     "name": "stdout",
     "output_type": "stream",
     "text": [
      "[[0, 0, 0, 0, 0], [0, 1, 2, 3, 4], [0, 2, 4, 6, 8], [0, 3, 6, 9, 12], [0, 4, 8, 12, 16]]\n"
     ]
    }
   ],
   "source": [
    "for i in range(1, 51):\n",
    "    if i % 3 == 0 and i % 5 == 0:\n",
    "        print(\"FizzBuzz\")\n",
    "    elif i % 3 == 0:\n",
    "        print(\"Fizz\")\n",
    "    elif i % 5 == 0:\n",
    "        print(\"Buzz\")\n",
    "    else:\n",
    "        print(i)    "
   ]
  },
  {
   "cell_type": "markdown",
   "id": "df99ffcb",
   "metadata": {},
   "source": [
    "### 7.Write a Python program that takes two digits m (row) and n (column) as input and generates a two-dimensional array. The element value in the i-th row and j-th column of the array should be i*j.\n",
    "### Note :\n",
    "#### i = 0,1.., m-1\n",
    "#### j = 0,1, n-1.\n",
    "### Test Data : Rows = 3, Columns = 4\n",
    "### Expected Result : [[0, 0, 0, 0], [0, 1, 2, 3], [0, 2, 4, 6]]"
   ]
  },
  {
   "cell_type": "code",
   "execution_count": null,
   "id": "b23d1486",
   "metadata": {},
   "outputs": [
    {
     "name": "stdout",
     "output_type": "stream",
     "text": [
      "The grade assigned is: C\n"
     ]
    }
   ],
   "source": [
    "m = int(input(\"Enter number of rows: \"))\n",
    "n = int(input(\"Enter number of columns: \"))\n",
    "array = []\n",
    "for i in range(m):\n",
    "    row = []\n",
    "    for j in range(n):\n",
    "        row.append(i * j)\n",
    "    array.append(row)\n",
    "print(array)"
   ]
  },
  {
   "cell_type": "markdown",
   "id": "5d15a19d",
   "metadata": {},
   "source": [
    "### 8.Write  a Python program for Grade Classification\n",
    "### Scenario: A school system classifies grades as follows:\n",
    "#### A (90 and above)\n",
    "#### B (70 to 89)\n",
    "#### C (50 to 69)\n",
    "#### D (below 50)\n",
    "### Question:  What grade will be assigned to a student who scores 85?\n",
    "### If the score is 92, what grade will the program output\n"
   ]
  },
  {
   "cell_type": "code",
   "execution_count": null,
   "id": "3bb36619",
   "metadata": {},
   "outputs": [
    {
     "name": "stdout",
     "output_type": "stream",
     "text": [
      "5 x 1 = 5\n",
      "5 x 2 = 10\n",
      "5 x 3 = 15\n",
      "5 x 4 = 20\n",
      "5 x 5 = 25\n",
      "5 x 6 = 30\n",
      "5 x 7 = 35\n",
      "5 x 8 = 40\n",
      "5 x 9 = 45\n",
      "5 x 10 = 50\n"
     ]
    }
   ],
   "source": [
    "score = int(input(\"Enter the student's score: \"))\n",
    "if score >= 90:\n",
    "    grade = 'A'\n",
    "elif score >= 70:\n",
    "    grade = 'B'\n",
    "elif score >= 50:\n",
    "    grade = 'C'\n",
    "else:\n",
    "    grade = 'D'\n",
    "print(f\"The grade assigned is: {grade}\")"
   ]
  },
  {
   "cell_type": "markdown",
   "id": "921a23f6",
   "metadata": {},
   "source": [
    "### 9.Write a program that prints the multiplication table of a user-entered number up to 10.\n"
   ]
  },
  {
   "cell_type": "code",
   "execution_count": null,
   "id": "03f389b0",
   "metadata": {},
   "outputs": [],
   "source": [
    "\n",
    "num = int(input(\"Enter a number: \"))\n",
    "for i in range(1, 11):\n",
    "    print(f\"{num} x {i} = {num*i}\")"
   ]
  },
  {
   "cell_type": "markdown",
   "id": "2250185c",
   "metadata": {},
   "source": [
    "### 10.Write a Python program to check the validity of passwords input by users.\n",
    "### Validation :\n",
    "#### At least 1 letter between [a-z] and 1 letter between [A-Z].\n",
    "#### At least 1 number between [0-9].\n",
    "#### At least 1 character from [$#@].\n",
    "#### Minimum length 6 characters.\n",
    "#### Maximum length 16 characters."
   ]
  },
  {
   "cell_type": "code",
   "execution_count": 20,
   "id": "785a79b2",
   "metadata": {},
   "outputs": [
    {
     "name": "stdout",
     "output_type": "stream",
     "text": [
      "Password is valid.\n"
     ]
    }
   ],
   "source": [
    "password = input(\"Enter your password: \")\n",
    "has_lower = False\n",
    "has_upper = False\n",
    "has_digit = False\n",
    "has_special = False\n",
    "special_characters = \"$#@\"\n",
    "for char in password:\n",
    "    if char.islower():\n",
    "        has_lower = True\n",
    "    elif char.isupper():\n",
    "        has_upper = True\n",
    "    elif char.isdigit():\n",
    "        has_digit = True\n",
    "    elif char in special_characters:\n",
    "        has_special = True\n",
    "if (6 <= len(password) <= 16) and has_lower and has_upper and has_digit and has_special:\n",
    "    print(\"Password is valid.\")\n",
    "else:\n",
    "    print(\"Password is invalid.\")"
   ]
  }
 ],
 "metadata": {
  "kernelspec": {
   "display_name": "base",
   "language": "python",
   "name": "python3"
  },
  "language_info": {
   "codemirror_mode": {
    "name": "ipython",
    "version": 3
   },
   "file_extension": ".py",
   "mimetype": "text/x-python",
   "name": "python",
   "nbconvert_exporter": "python",
   "pygments_lexer": "ipython3",
   "version": "3.12.4"
  }
 },
 "nbformat": 4,
 "nbformat_minor": 5
}
