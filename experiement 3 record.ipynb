{
 "cells": [
  {
   "cell_type": "markdown",
   "id": "8a282cbd",
   "metadata": {},
   "source": [
    "### 1.Movie Ticket Pricing You're writing a function to calculate movie ticket prices based on age.\n",
    "#### Kids under 12: $5 \n",
    "#### Seniors (60+): $6 \n",
    "#### Everyone else: $10\n",
    "### Question: \n",
    "#### Write a function calculate_ticket_price(age) that returns the correct ticket price.\n",
    "### Sample Input: \n",
    "#### calculate_ticket_price(8)    #Output: 5\n",
    "#### calculate_ticket_price(30)   #Output: 10     \n",
    "#### calculate_ticket_price(65)   #Output: 6\n"
   ]
  },
  {
   "cell_type": "code",
   "execution_count": 2,
   "id": "c14e296a",
   "metadata": {},
   "outputs": [
    {
     "name": "stdout",
     "output_type": "stream",
     "text": [
      "5\n",
      "10\n",
      "6\n"
     ]
    }
   ],
   "source": [
    "def calculate_ticket_price(age):\n",
    "    if age < 12:\n",
    "        return 5\n",
    "    elif age >= 60:\n",
    "        return 6\n",
    "    else:\n",
    "        return 10\n",
    "\n",
    "# Sample usage\n",
    "print(calculate_ticket_price(8))   # Output: 5\n",
    "print(calculate_ticket_price(30))  # Output: 10\n",
    "\n",
    "print(calculate_ticket_price(65))  # Output: 6\n"
   ]
  },
  {
   "cell_type": "markdown",
   "id": "95f0eeaf",
   "metadata": {},
   "source": [
    "### 2.You’re building a weather app and need a function to convert temperatures from Celsius to Fahrenheit\n",
    "### Question:\n",
    "#### Write a function celsius_to_fahrenheit(celsius) that returns the Fahrenheit equivalent.\n",
    "### Sample Input:\n",
    "#### celsius_to_fahrenheit(0)       # Output: 32.0  \n",
    "#### celsius_to_fahrenheit(37)      # Output: 98.6\n"
   ]
  },
  {
   "cell_type": "code",
   "execution_count": 3,
   "id": "5ab5915b",
   "metadata": {},
   "outputs": [
    {
     "name": "stdout",
     "output_type": "stream",
     "text": [
      "32.0\n",
      "98.6\n"
     ]
    }
   ],
   "source": [
    "def celsius_to_fahrenheit(celsius):\n",
    "    return (celsius * 9/5) + 32\n",
    "\n",
    "# Sample usage\n",
    "print(celsius_to_fahrenheit(0))    # Output: 32.0\n",
    "print(celsius_to_fahrenheit(37))   # Output: 98.6\n"
   ]
  },
  {
   "cell_type": "markdown",
   "id": "8220a6cf",
   "metadata": {},
   "source": [
    "### 3.You're creating a grading system. Given a score (0–100), return a letter grade:\t\n",
    "#### A: 90+\t\n",
    "#### B: 80–89\t\n",
    "#### C: 70–79\n",
    "#### D: 60–69\n",
    "#### F: below 60\n",
    "### Question:\n",
    "#### Write a function get_grade(score) that returns the letter grade.\n",
    "### Sample Input:\n",
    "#### get_grade(85)        # Output: \"B\"  \n",
    "#### get_grade(59)        # Output: \"F\n"
   ]
  },
  {
   "cell_type": "code",
   "execution_count": 4,
   "id": "79ecf64f",
   "metadata": {},
   "outputs": [
    {
     "name": "stdout",
     "output_type": "stream",
     "text": [
      "A\n",
      "B\n",
      "C\n",
      "D\n",
      "F\n"
     ]
    }
   ],
   "source": [
    "def get_grade(score):\n",
    "    if score >= 90:\n",
    "        return 'A'\n",
    "    elif score >= 80:\n",
    "        return 'B'\n",
    "    elif score >= 70:\n",
    "        return 'C'\n",
    "    elif score >= 60:\n",
    "        return 'D'\n",
    "    else:\n",
    "        return 'F'\n",
    "\n",
    "# Sample usage\n",
    "print(get_grade(95))  # Output: A\n",
    "print(get_grade(85))  # Output: B\n",
    "print(get_grade(75))  # Output: C\n",
    "print(get_grade(65))  # Output: D\n",
    "print(get_grade(50))  # Output: F\n"
   ]
  },
  {
   "cell_type": "markdown",
   "id": "8f7e97a0",
   "metadata": {},
   "source": [
    "### 4.In a text editing app, users want a function that takes a sentence and reverses each word, keeping the word order the same.\n",
    "### Question:\n",
    "#### Write a function reverse_words(sentence) that reverses the characters of each word.\n",
    "### Sample Input:\n",
    "#### reverse_words(\"hello world\")    # Output: \"olleh dlrow\"  \n",
    "#### reverse_words(\"python is fun\")  # Output: \"nohtyp si nuf\"\n",
    "\n"
   ]
  },
  {
   "cell_type": "code",
   "execution_count": null,
   "id": "42e1c3c1",
   "metadata": {},
   "outputs": [
    {
     "name": "stdout",
     "output_type": "stream",
     "text": [
      "olleh dlrow\n",
      "nohtyp si nuf\n"
     ]
    }
   ],
   "source": [
    "def reverse_words(sentence):\n",
    "    words = sentence.split()\n",
    "    reversed_words = [word[::-1] for word in words]\n",
    "    return ' '.join(reversed_words)\n",
    "\n",
    "# Sample usage\n",
    "print(reverse_words(\"hello world\"))    # Output: \"olleh dlrow\"\n",
    "print(reverse_words(\"python is fun\"))  # Output: \"nohtyp si nuf\"\n"
   ]
  },
  {
   "cell_type": "markdown",
   "id": "8848ecde",
   "metadata": {},
   "source": [
    "### 5.Shipping Cost Calculator :A  company charges shipping based on weight:\n",
    "#### Up to 2kg: $5\n",
    "#### 2–5kg: $10\n",
    "#### 5kg and above: $15\n",
    "### Question:\n",
    "#### Write a function calculate_shipping(weight) that returns the shipping cost.\n",
    "### Sample Input:\n",
    "#### calculate_shipping(1.5)     # Output: 5  \n",
    "#### calculate_shipping(3.2)     # Output: 10  \n",
    "#### calculate_shipping(7.0)     # Output: 15\n"
   ]
  },
  {
   "cell_type": "code",
   "execution_count": 6,
   "id": "b731b337",
   "metadata": {},
   "outputs": [
    {
     "name": "stdout",
     "output_type": "stream",
     "text": [
      "5\n",
      "10\n",
      "15\n"
     ]
    }
   ],
   "source": [
    "def calculate_shipping(weight):\n",
    "    if weight <= 2:\n",
    "        return 5\n",
    "    elif weight <= 5:\n",
    "        return 10\n",
    "    else:\n",
    "        return 15\n",
    "\n",
    "# Sample usage\n",
    "print(calculate_shipping(1.5))  # Output: 5\n",
    "print(calculate_shipping(3))    # Output: 10\n",
    "print(calculate_shipping(6))    # Output: 15\n"
   ]
  },
  {
   "cell_type": "markdown",
   "id": "fc620192",
   "metadata": {},
   "source": [
    "### 6.Password Strength Checker\n",
    "### Scenario: You're building a signup form. The password must be at least 8 characters long and contain at least one uppercase letter, one lowercase letter, and one digit.\n",
    "### Question:\n",
    "#### Write a function is_strong_password(password) that returns True if the password is strong, otherwise False.\n",
    "### Sample Input:\n",
    "#### is_strong_password(\"Password123\")     # Output: True\n"
   ]
  },
  {
   "cell_type": "code",
   "execution_count": 7,
   "id": "1f330f99",
   "metadata": {},
   "outputs": [
    {
     "name": "stdout",
     "output_type": "stream",
     "text": [
      "True\n",
      "False\n",
      "False\n",
      "False\n"
     ]
    }
   ],
   "source": [
    "def is_strong_password(password):\n",
    "    if len(password) < 8:\n",
    "        return False\n",
    "\n",
    "    has_upper = False\n",
    "    has_lower = False\n",
    "    has_digit = False\n",
    "\n",
    "    for char in password:\n",
    "        if char.isupper():\n",
    "            has_upper = True\n",
    "        elif char.islower():\n",
    "            has_lower = True\n",
    "        elif char.isdigit():\n",
    "            has_digit = True\n",
    "\n",
    "    return has_upper and has_lower and has_digit\n",
    "\n",
    "# Sample usage\n",
    "print(is_strong_password(\"Password123\"))   # Output: True\n",
    "print(is_strong_password(\"password\"))      # Output: False\n",
    "print(is_strong_password(\"PASSWORD\"))      # Output: False\n",
    "print(is_strong_password(\"Pass123\"))       # Output: False\n"
   ]
  },
  {
   "cell_type": "code",
   "execution_count": null,
   "id": "63b9d62a",
   "metadata": {},
   "outputs": [],
   "source": []
  }
 ],
 "metadata": {
  "kernelspec": {
   "display_name": "base",
   "language": "python",
   "name": "python3"
  },
  "language_info": {
   "codemirror_mode": {
    "name": "ipython",
    "version": 3
   },
   "file_extension": ".py",
   "mimetype": "text/x-python",
   "name": "python",
   "nbconvert_exporter": "python",
   "pygments_lexer": "ipython3",
   "version": "3.12.4"
  }
 },
 "nbformat": 4,
 "nbformat_minor": 5
}
